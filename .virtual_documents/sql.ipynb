from config import *
import pandas as pd
import mysql.connector

mydb = mysql.connector.connect(
  host="127.0.0.1",
  user=mysql_username,
  password=mysql_password,
  database="bestofu",
)


# u.id, u.name, u.gender, o.data, s.time_in_bed, s.time_asleep, s.wakeup_number, s.sleep_score, s.stress_score


mycursor = mydb.cursor()

sql_1 = """
SELECT id, name, gender, data, time_in_bed, time_asleep, wakeup_number, sleep_score, stress_score
FROM (
	SELECT id
		,name
		,gender
	FROM users
	) u
JOIN (
	SELECT user_id
		,data
	FROM daily_overall_data
	) o ON o.user_id = u.id
JOIN (
	SELECT user_id
		,date
		,time_in_bed
		,time_asleep
		,wakeup_number
		,sleep_score
		,stress_score
	FROM daily_statistics
	) s ON s.user_id = u.id
WHERE s.date BETWEEN '2021-11-01'
		AND '2021-11-30'
ORDER BY s.date
"""

col_name = ["u:id", "u:name", "u:gender", "data", "y:time_in_bed", 
            "y:time_asleep", "y:wakeup_number", "y:sleep_score", "y:stress_score"]

df = []
mycursor.execute(sql_1)
myresult = mycursor.fetchall()

for x in myresult:
  df.append(x)

df = pd.DataFrame(df, columns=col_name)
    


set_f = set()
for i in df.data:
    try:
        i_obj = eval(i)
    except NameError as ner:
        i_obj = eval(i.replace("true", "1").replace("false", "0"))

    for j in i_obj:
        if j not in set_f:
            set_f.add(j)

set_f  


mycursor = mydb.cursor()

sql_1 = """
SELECT u.*, o.*, s.*
FROM (
	SELECT id
		,name
		,gender
	FROM users
	) u
JOIN (
	SELECT user_id
		,data->'$.VO2_max' as VO2_max
		,data->'$.blood_diastolic_presure' as blood_diastolic_presure
		,data->'$.blood_glucose' as blood_glucose
		,data->'$.blood_systolic_presure' as blood_systolic_presure
		,data->'$.body_temperature' as body_temperature
		,data->'$.exercise_time' as exercise_time
		,data->'$.heart_beat_series' as heart_beat_series
		,data->'$.hight_hr_events' as hight_hr_events
		,data->'$.hr_variability_SDNN' as hr_variability_SDNN
		,data->'$.low_hr_events' as low_hr_events
		,data->'$.oxygen_saturation' as oxygen_saturation
		,data->'$.recent_body_mass_index' as recent_body_mass_index
		,data->'$.resespiratory_rate' as resespiratory_rate
		,data->'$.resting_hr' as resting_hr
		,data->'$.walking_hr_verage' as walking_hr_verage
	FROM daily_overall_data
	) o ON o.user_id = u.id
JOIN (
	SELECT user_id
		,date
		,time_in_bed
		,time_asleep
		,wakeup_number
		,sleep_score
		,stress_score
	FROM daily_statistics
	) s ON s.user_id = u.id
WHERE s.date BETWEEN '2021-09-01'
		AND '2021-11-30'
ORDER BY s.date
"""

col_name = ["u:id", "u:name", "u:gender", "o.user_id",
			'd:VO2_max',
			'd:blood_diastolic_presure',
			'd:blood_glucose',
			'd:blood_systolic_presure',
			'd:body_temperature',
			'd:exercise_time',
			'd:heart_beat_series',
			'd:hight_hr_events',
			'd:hr_variability_SDNN',
			'd:low_hr_events',
			'd:oxygen_saturation',
			'd:recent_body_mass_index',
			'd:resespiratory_rate',
			'd:resting_hr',
			'd:walking_hr_verage',  "s.user_id", "u:date",
            "y:time_in_bed", "y:time_asleep", "y:wakeup_number", "y:sleep_score", "y:stress_score"]

df = []
mycursor.execute(sql_1)
myresult = mycursor.fetchall()

for x in myresult:
  df.append(x)

df = pd.DataFrame(df, columns=col_name)
    



import os
import sys
import numpy as np
import pandas as pd
import altair as alt
sys.path.append("/Users/tuanzai/Desktop/Git/tools/tools")

from data_overview import *
from df_to_highchart import *



d_list = [x for x in df if x.startswith("d:")]
df[d_list] = df[d_list].replace("", np.nan).replace("true", 1).replace("false", 0).astype(float)
num_edd = edd(df[d_list], missing_value=np.nan, ignore_col=[], save_path=None)
display(num_edd)
print("\r\r\r===================== missing rate < 0.9 ====================")
display(num_edd[num_edd["missingrate"] <= 0.9])


dlist_useful = num_edd[num_edd["missingrate"] <= 0.9]["var"].to_list()
display(dlist_useful)

num_edd_plot = edd(df[dlist_useful], missing_value=np.nan, ignore_col=[], save_path=None)
num_edd_plot



columns = ["missingrate", 'mean', 'std', 'min', 'qt1', 'qt5', 'qt25', 'qt50', 'qt75', 'qt95', 'qt99', 'max', "sample_cnt"]


num_edd_plot[columns]


# num_edd_plot = edd(df[dlist_useful].fillna(-1), missing_value=np.nan, ignore_col=[], save_path=None)
edd1 = lambda df: edd(df[dlist_useful+[x for x in df if x.startswith("y:")]])
stat_by_date = df[dlist_useful + ["u:date"] + [x for x in df if x.startswith("y:")]].groupby("u:date").apply(edd1)


import altair as alt
import pandas as pd
alt.data_transformers.enable('data_server')
alt.renderers.enable('mimetype')


# url = ('https://raw.githubusercontent.com/UBC-MDS/exploratory-data-viz/main/' +
#       'chapters/en/slides/module2/data/world-data-gapminder.csv')
# gm = pd.read_csv(url, parse_dates=['year'])
# gm



# alt.Chart(gm).mark_line().encode(
#     x='year',
#     y='sum(population)')


def stat_distribution(source, title):
    
    print(title)
    
    bar = alt.Chart(source).mark_bar(opacity=0.45, color='#57A44C').encode(
        x = 'date:T', 
        y = alt.Y("sample_cnt", axis = alt.Axis(title='Total Count', titleColor='#57A44C')),
    ).properties(
        width = 600
    ).interactive()

    source = source[["date", "mean", "std", "min", "qt1", "qt25", "qt75", "max", "missingrate"]].melt("date", var_name='category', value_name='y')

    selection = alt.selection_multi(fields=['category'], bind='legend')
    line = alt.Chart(source).mark_circle(interpolate='monotone').encode(
        x = 'date:T', 
        y=alt.Y("y:Q", axis = alt.Axis(title='Percentage stats', titleColor='#5276A7')),
        color=alt.Color('category:N'),
        # opacity=alt.condition(selection, alt.value(1), alt.value(0.2)),
        tooltip="y:Q"
    )

    line = (line + line.mark_line()).properties(
        width = 600
    ).interactive()

    display(alt.layer(bar, line).resolve_scale(
        y = 'independent'
    ))


stat_by_date["missingrate"] = stat_by_date["missingrate"]*100


for i in dlist_useful:
    source = stat_by_date.loc[stat_by_date["var"] == i, columns].reset_index().rename(columns={"u:date":"date"})
    stat_distribution(source, i)


for i in [x for x in df if x.startswith("y:")]:
    source = stat_by_date.loc[stat_by_date["var"] == i, columns].reset_index().rename(columns={"u:date":"date"})
    stat_distribution(source, i)


df_plots = df[dlist_useful+[x for x in df if x.startswith("y:")]]


corr_df = df_plots[[x for x in df_plots if x != "d:exercise_time"]].dropna().corr()
display(corr_df)

source = corr_df.reset_index().melt("index")
alt.Chart(source).mark_square().encode(
    x='index:O',
    y='variable:O',
    color='value:Q',
    size='value:Q',
    tooltip='value:Q',
).properties(
    width = 400,
    height = 400
)


import seaborn as sns
sns.pairplot(df_plots.dropna())



df[["y:sleep_score"]].dropna().max()


qmin, qmax = df["y:sleep_score"].quantile(0.25), df["y:sleep_score"].quantile(0.75)


check_list = [
#  'd:exercise_time',
 'd:heart_beat_series',
 'd:hr_variability_SDNN',
 'd:oxygen_saturation',
 'd:resting_hr',
 'd:walking_hr_verage',
 'y:time_in_bed',
 'y:time_asleep',
 'y:wakeup_number',
#  'y:sleep_score',
#  'y:stress_score'
 ]

for i in check_list:
    pass


from woe_tools import *


def handle_label(x):
    if x<qmin:
        return 1
    elif x>qmax:
        return 0
    else:
        return -1


for i in check_list:
    df_tmp = df[["y:sleep_score", i]].dropna()
    df_tmp["y:sleep_score"] = df_tmp["y:sleep_score"].apply(handle_label)
    df_tmp = df_tmp[df_tmp["y:sleep_score"] != -1]
    numwoe_autobinning(df_tmp, i, "y:sleep_score")




